{
 "cells": [
  {
   "cell_type": "code",
   "execution_count": 1,
   "id": "4b1fd390",
   "metadata": {
    "executionInfo": {
     "elapsed": 4798,
     "status": "ok",
     "timestamp": 1668666787626,
     "user": {
      "displayName": "Sujan Chowdary",
      "userId": "12778961120706506705"
     },
     "user_tz": -330
    },
    "id": "4b1fd390"
   },
   "outputs": [],
   "source": [
    "#importing necessary libraries.\n",
    "import numpy as np \n",
    "import pandas as pd \n",
    "import matplotlib.pyplot as plt\n",
    "import cv2\n",
    "import tensorflow as tf\n",
    "from PIL import Image\n",
    "import os\n",
    "from sklearn.model_selection import train_test_split\n",
    "from tensorflow.keras.utils import to_categorical\n",
    "from keras.models import Sequential, load_model\n",
    "from keras.layers import Conv2D, MaxPool2D, Dense, Flatten, Dropout"
   ]
  },
  {
   "cell_type": "code",
   "execution_count": 7,
   "id": "e10b0f4d",
   "metadata": {
    "colab": {
     "base_uri": "https://localhost:8080/",
     "height": 252
    },
    "executionInfo": {
     "elapsed": 7,
     "status": "error",
     "timestamp": 1668667612773,
     "user": {
      "displayName": "Sujan Chowdary",
      "userId": "12778961120706506705"
     },
     "user_tz": -330
    },
    "id": "e10b0f4d",
    "outputId": "cdacaf24-4f85-47a9-dc09-95b5d056e1da"
   },
   "outputs": [
    {
     "name": "stdout",
     "output_type": "stream",
     "text": [
      "/content\n"
     ]
    },
    {
     "ename": "FileNotFoundError",
     "evalue": "ignored",
     "output_type": "error",
     "traceback": [
      "\u001b[0;31m---------------------------------------------------------------------------\u001b[0m",
      "\u001b[0;31mFileNotFoundError\u001b[0m                         Traceback (most recent call last)",
      "\u001b[0;32m<ipython-input-7-5e22f2e35fd8>\u001b[0m in \u001b[0;36m<module>\u001b[0;34m\u001b[0m\n\u001b[1;32m      8\u001b[0m \u001b[0;32mfor\u001b[0m \u001b[0mi\u001b[0m \u001b[0;32min\u001b[0m \u001b[0mrange\u001b[0m\u001b[0;34m(\u001b[0m\u001b[0mclasses\u001b[0m\u001b[0;34m)\u001b[0m\u001b[0;34m:\u001b[0m\u001b[0;34m\u001b[0m\u001b[0;34m\u001b[0m\u001b[0m\n\u001b[1;32m      9\u001b[0m     \u001b[0mpath\u001b[0m \u001b[0;34m=\u001b[0m \u001b[0mos\u001b[0m\u001b[0;34m.\u001b[0m\u001b[0mpath\u001b[0m\u001b[0;34m.\u001b[0m\u001b[0mjoin\u001b[0m\u001b[0;34m(\u001b[0m\u001b[0mcur_path\u001b[0m\u001b[0;34m,\u001b[0m\u001b[0;34m'Downloads\\archive(1)\\Train'\u001b[0m\u001b[0;34m,\u001b[0m\u001b[0mstr\u001b[0m\u001b[0;34m(\u001b[0m\u001b[0mi\u001b[0m\u001b[0;34m)\u001b[0m\u001b[0;34m)\u001b[0m\u001b[0;34m\u001b[0m\u001b[0;34m\u001b[0m\u001b[0m\n\u001b[0;32m---> 10\u001b[0;31m     \u001b[0mimages\u001b[0m \u001b[0;34m=\u001b[0m \u001b[0mos\u001b[0m\u001b[0;34m.\u001b[0m\u001b[0mlistdir\u001b[0m\u001b[0;34m(\u001b[0m\u001b[0mpath\u001b[0m\u001b[0;34m)\u001b[0m\u001b[0;34m\u001b[0m\u001b[0;34m\u001b[0m\u001b[0m\n\u001b[0m\u001b[1;32m     11\u001b[0m     \u001b[0;32mfor\u001b[0m \u001b[0ma\u001b[0m \u001b[0;32min\u001b[0m \u001b[0mimages\u001b[0m\u001b[0;34m:\u001b[0m\u001b[0;34m\u001b[0m\u001b[0;34m\u001b[0m\u001b[0m\n\u001b[1;32m     12\u001b[0m         \u001b[0;32mtry\u001b[0m\u001b[0;34m:\u001b[0m\u001b[0;34m\u001b[0m\u001b[0;34m\u001b[0m\u001b[0m\n",
      "\u001b[0;31mFileNotFoundError\u001b[0m: [Errno 2] No such file or directory: '/content/Downloads\\x07rchive(1)\\\\Train/0'"
     ]
    }
   ],
   "source": [
    "#cell for importing all the images of various traffic signs.\n",
    "data = []\n",
    "labels = []\n",
    "classes = 43\n",
    "cur_path = os.getcwd()\n",
    "print(cur_path)\n",
    "#Retrieving the images and their labels\n",
    "for i in range(classes):\n",
    "    path = os.path.join(cur_path,'Downloads\\archive(1)\\Train',str(i))\n",
    "    images = os.listdir(path)\n",
    "    for a in images:\n",
    "        try:\n",
    "            image = Image.open(path + '\\\\'+ a)\n",
    "            image = image.resize((30,30))\n",
    "            image = np.array(image)\n",
    "            #sim = Image.fromarray(image)\n",
    "            data.append(image)\n",
    "            labels.append(i)\n",
    "        except:\n",
    "            print(\"Error loading image\")\n",
    "#Converting lists into numpy arrays\n",
    "data = np.array(data)\n",
    "labels = np.array(labels)"
   ]
  },
  {
   "cell_type": "code",
   "execution_count": 2,
   "id": "tetOyo6mSp_q",
   "metadata": {
    "colab": {
     "base_uri": "https://localhost:8080/"
    },
    "executionInfo": {
     "elapsed": 21827,
     "status": "ok",
     "timestamp": 1668666829619,
     "user": {
      "displayName": "Sujan Chowdary",
      "userId": "12778961120706506705"
     },
     "user_tz": -330
    },
    "id": "tetOyo6mSp_q",
    "outputId": "3d8611b5-798e-4bc1-c20e-261adfd1b20a"
   },
   "outputs": [
    {
     "name": "stdout",
     "output_type": "stream",
     "text": [
      "Mounted at /content/drive\n"
     ]
    }
   ],
   "source": [
    "from google.colab import drive\n",
    "drive.mount('/content/drive')"
   ]
  },
  {
   "cell_type": "code",
   "execution_count": null,
   "id": "28243e26",
   "metadata": {
    "id": "28243e26",
    "outputId": "495a7426-e258-4bf5-983f-429014b76cf5"
   },
   "outputs": [
    {
     "name": "stdout",
     "output_type": "stream",
     "text": [
      "(39209, 30, 30, 3) (39209,)\n"
     ]
    }
   ],
   "source": [
    "print(data.shape, labels.shape)\n",
    "#Splitting training and testing dataset\n",
    "X_train, X_test, y_train, y_test = train_test_split(data, labels, test_size=0.2, random_state=42)"
   ]
  },
  {
   "cell_type": "code",
   "execution_count": null,
   "id": "525c8136",
   "metadata": {
    "id": "525c8136",
    "outputId": "e2458c0e-2f8d-46f8-aa8d-3eee6fa8b6f2"
   },
   "outputs": [
    {
     "name": "stdout",
     "output_type": "stream",
     "text": [
      "(31367, 30, 30, 3) (7842, 30, 30, 3) (31367,) (7842,)\n"
     ]
    }
   ],
   "source": [
    "print(X_train.shape, X_test.shape, y_train.shape, y_test.shape)\n",
    "#Converting the labels into one hot encoding\n",
    "y_train = to_categorical(y_train, 43)\n",
    "y_test = to_categorical(y_test, 43)"
   ]
  },
  {
   "cell_type": "code",
   "execution_count": null,
   "id": "cef039dc",
   "metadata": {
    "id": "cef039dc"
   },
   "outputs": [],
   "source": [
    "#Building the model\n",
    "model = Sequential()\n",
    "model.add(Conv2D(filters=32, kernel_size=(5,5), activation='relu', input_shape=X_train.shape[1:]))\n",
    "model.add(Conv2D(filters=32, kernel_size=(5,5), activation='relu'))\n",
    "model.add(MaxPool2D(pool_size=(2, 2)))\n",
    "model.add(Dropout(rate=0.25))\n",
    "model.add(Conv2D(filters=64, kernel_size=(3, 3), activation='relu'))\n",
    "model.add(Conv2D(filters=64, kernel_size=(3, 3), activation='relu'))\n",
    "model.add(MaxPool2D(pool_size=(2, 2)))\n",
    "model.add(Dropout(rate=0.25))\n",
    "model.add(Flatten())\n",
    "model.add(Dense(256, activation='relu'))\n",
    "model.add(Dropout(rate=0.5))\n",
    "model.add(Dense(43, activation='softmax'))"
   ]
  },
  {
   "cell_type": "code",
   "execution_count": null,
   "id": "ca3ed9b5",
   "metadata": {
    "id": "ca3ed9b5"
   },
   "outputs": [],
   "source": [
    "#Compilation of the model\n",
    "model.compile(loss='categorical_crossentropy', optimizer='adam', metrics=['accuracy'])"
   ]
  },
  {
   "cell_type": "code",
   "execution_count": null,
   "id": "0ebde424",
   "metadata": {
    "id": "0ebde424",
    "outputId": "d3bcef18-1fe6-4a1b-f9a1-4da49a9710c3"
   },
   "outputs": [
    {
     "name": "stdout",
     "output_type": "stream",
     "text": [
      "Epoch 1/10\n",
      "491/491 [==============================] - 79s 157ms/step - loss: 3.7999 - accuracy: 0.0541 - val_loss: 3.4644 - val_accuracy: 0.0578\n",
      "Epoch 2/10\n",
      "491/491 [==============================] - 77s 156ms/step - loss: 2.7001 - accuracy: 0.2720 - val_loss: 1.1311 - val_accuracy: 0.7179\n",
      "Epoch 3/10\n",
      "491/491 [==============================] - 77s 156ms/step - loss: 0.9769 - accuracy: 0.7138 - val_loss: 0.4140 - val_accuracy: 0.8787\n",
      "Epoch 4/10\n",
      "491/491 [==============================] - 137s 279ms/step - loss: 0.5996 - accuracy: 0.8182 - val_loss: 0.2265 - val_accuracy: 0.9433\n",
      "Epoch 5/10\n",
      "491/491 [==============================] - 81s 165ms/step - loss: 0.4359 - accuracy: 0.8703 - val_loss: 0.1504 - val_accuracy: 0.9633\n",
      "Epoch 6/10\n",
      "491/491 [==============================] - 190s 388ms/step - loss: 0.3532 - accuracy: 0.8934 - val_loss: 0.1257 - val_accuracy: 0.9621\n",
      "Epoch 7/10\n",
      "491/491 [==============================] - 77s 156ms/step - loss: 0.3002 - accuracy: 0.9121 - val_loss: 0.0830 - val_accuracy: 0.9791\n",
      "Epoch 8/10\n",
      "491/491 [==============================] - 194s 395ms/step - loss: 0.2522 - accuracy: 0.9269 - val_loss: 0.1016 - val_accuracy: 0.9726\n",
      "Epoch 9/10\n",
      "491/491 [==============================] - 79s 161ms/step - loss: 0.2326 - accuracy: 0.9315 - val_loss: 0.0630 - val_accuracy: 0.9836\n",
      "Epoch 10/10\n",
      "491/491 [==============================] - 116s 236ms/step - loss: 0.2044 - accuracy: 0.9411 - val_loss: 0.0609 - val_accuracy: 0.9838\n"
     ]
    }
   ],
   "source": [
    "epochs = 10\n",
    "history = model.fit(X_train, y_train, batch_size=64, epochs=epochs, validation_data=(X_test, y_test))\n",
    "model.save(\"my_model.h5\")"
   ]
  },
  {
   "cell_type": "markdown",
   "id": "cca9e0af",
   "metadata": {
    "id": "cca9e0af"
   },
   "source": [
    "accuracy 94%"
   ]
  },
  {
   "cell_type": "code",
   "execution_count": null,
   "id": "1fe43afc",
   "metadata": {
    "id": "1fe43afc"
   },
   "outputs": [],
   "source": [
    "model.save('traffic_classifier1.h5')"
   ]
  },
  {
   "cell_type": "code",
   "execution_count": null,
   "id": "0be83570",
   "metadata": {
    "id": "0be83570"
   },
   "outputs": [],
   "source": []
  }
 ],
 "metadata": {
  "colab": {
   "provenance": []
  },
  "kernelspec": {
   "display_name": "Python 3 (ipykernel)",
   "language": "python",
   "name": "python3"
  },
  "language_info": {
   "codemirror_mode": {
    "name": "ipython",
    "version": 3
   },
   "file_extension": ".py",
   "mimetype": "text/x-python",
   "name": "python",
   "nbconvert_exporter": "python",
   "pygments_lexer": "ipython3",
   "version": "3.9.13"
  }
 },
 "nbformat": 4,
 "nbformat_minor": 5
}
