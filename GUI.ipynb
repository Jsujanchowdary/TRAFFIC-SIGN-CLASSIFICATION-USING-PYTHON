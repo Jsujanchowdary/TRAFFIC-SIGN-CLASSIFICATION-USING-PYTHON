{
 "cells": [
  {
   "cell_type": "markdown",
   "id": "2334af75",
   "metadata": {},
   "source": [
    "# Building Graphical User Interface For The Model"
   ]
  },
  {
   "cell_type": "markdown",
   "id": "161d2db2",
   "metadata": {},
   "source": [
    "## Load the Model"
   ]
  },
  {
   "cell_type": "markdown",
   "id": "7a0d41a5",
   "metadata": {},
   "source": [
    "load the trained model to classify sign"
   ]
  },
  {
   "cell_type": "code",
   "execution_count": 22,
   "id": "73fa3956",
   "metadata": {},
   "outputs": [],
   "source": [
    "import tkinter as tk\n",
    "from tkinter import filedialog\n",
    "from tkinter import *\n",
    "from PIL import ImageTk, Image\n",
    "import numpy as np\n",
    "import numpy\n",
    "from keras.models import load_model\n",
    "model = load_model('traffic_classifier1.h5')"
   ]
  },
  {
   "cell_type": "markdown",
   "id": "896fbae0",
   "metadata": {},
   "source": [
    "## dictionary to label all traffic signs class."
   ]
  },
  {
   "cell_type": "code",
   "execution_count": 23,
   "id": "2c5be977",
   "metadata": {},
   "outputs": [],
   "source": [
    "class_names=['Speed limit (20km/h)',\n",
    "            'Speed limit (30km/h)', \n",
    "            'Speed limit (50km/h)', \n",
    "            'Speed limit (60km/h)', \n",
    "            'Speed limit (70km/h)', \n",
    "            'Speed limit (80km/h)', \n",
    "            'End of speed limit (80km/h)', \n",
    "            'Speed limit (100km/h)', \n",
    "            'Speed limit (120km/h)', \n",
    "            'No passing', \n",
    "            'No passing veh over 3.5 tons', \n",
    "            'Right-of-way at intersection', \n",
    "            'Priority road', \n",
    "            'Yield', \n",
    "            'Stop', \n",
    "            'No vehicles', \n",
    "            'Veh > 3.5 tons prohibited', \n",
    "            'No entry', \n",
    "            'General caution', \n",
    "            'Dangerous curve left', \n",
    "            'Dangerous curve right', \n",
    "            'Double curve', \n",
    "            'Bumpy road', \n",
    "            'Slippery road', \n",
    "            'Road narrows on the right',\n",
    "            'Road work', \n",
    "            'Traffic signals', \n",
    "            'Pedestrians', \n",
    "            'Children crossing', \n",
    "            'Bicycles crossing', \n",
    "            'Beware of ice/snow',\n",
    "            'Wild animals crossing', \n",
    "            'End speed + passing limits', \n",
    "            'Turn right ahead', \n",
    "            'Turn left ahead', \n",
    "            'Ahead only', \n",
    "            'Go straight or right', \n",
    "            'Go straight or left', \n",
    "            'Keep right', \n",
    "            'Keep left', \n",
    "            'Roundabout mandatory', \n",
    "            'End of no passing', \n",
    "            'End no passing veh > 3.5 tons']"
   ]
  },
  {
   "cell_type": "markdown",
   "id": "ba37afb5",
   "metadata": {},
   "source": [
    "## initialise GUI"
   ]
  },
  {
   "cell_type": "code",
   "execution_count": 24,
   "id": "9f0dcb43",
   "metadata": {},
   "outputs": [],
   "source": [
    "top=tk.Tk()\n",
    "top.geometry('800x600')\n",
    "top.title('Traffic sign classification')\n",
    "top.configure(background='#404258')\n",
    "label=Label(top,background='#CDCDCD', font=('arial',15,'bold'))\n",
    "sign_image = Label(top)"
   ]
  },
  {
   "cell_type": "code",
   "execution_count": 25,
   "id": "72c527ff",
   "metadata": {},
   "outputs": [],
   "source": [
    "def classify(file_path):\n",
    "    global label_packed\n",
    "    image = Image.open(file_path)\n",
    "    image = image.resize((30,30))\n",
    "    image = numpy.expand_dims(image, axis=0)\n",
    "    image = numpy.array(image)\n",
    "    pred = model.predict(image)\n",
    "    print(pred)\n",
    "    sign=class_names[np.argmax(pred)]\n",
    "    print(sign)\n",
    "    label.configure(foreground='#011638', text=sign) "
   ]
  },
  {
   "cell_type": "code",
   "execution_count": 26,
   "id": "7607c3c6",
   "metadata": {},
   "outputs": [],
   "source": [
    "def show_classify_button(file_path):\n",
    "    classify_b=Button(top,text=\"Classify Image\",command=lambda: classify(file_path),padx=10,pady=5)\n",
    "    classify_b.configure(background='#1B202B', foreground='white',font=('arial',10,'bold'))\n",
    "    classify_b.place(relx=0.79,rely=0.46)\n"
   ]
  },
  {
   "cell_type": "code",
   "execution_count": 27,
   "id": "6e08f934",
   "metadata": {},
   "outputs": [],
   "source": [
    "def upload_image():\n",
    "    try:\n",
    "        file_path=filedialog.askopenfilename()\n",
    "        uploaded=Image.open(file_path)\n",
    "        uploaded.thumbnail(((top.winfo_width()),(top.winfo_height())))\n",
    "        im=ImageTk.PhotoImage(uploaded)\n",
    "        sign_image.configure(image=im)\n",
    "        sign_image.image=im\n",
    "        label.configure(text='')\n",
    "        show_classify_button(file_path)\n",
    "    except:\n",
    "        pass\n"
   ]
  },
  {
   "cell_type": "code",
   "execution_count": 28,
   "id": "90e6bd47",
   "metadata": {},
   "outputs": [
    {
     "name": "stdout",
     "output_type": "stream",
     "text": [
      "1/1 [==============================] - 0s 83ms/step\n",
      "[[5.5267498e-07 2.2486947e-05 8.8961488e-06 2.5690269e-06 5.2238960e-07\n",
      "  5.5623435e-08 2.2841833e-12 4.3983758e-10 9.8250041e-07 2.7162046e-09\n",
      "  9.8311489e-08 7.3901273e-02 1.7696202e-07 5.1207488e-10 1.3116657e-07\n",
      "  5.0425004e-11 3.2091069e-10 1.1972188e-08 3.3210430e-01 1.1902625e-03\n",
      "  1.4133241e-03 4.5044313e-04 2.9874105e-08 2.3044338e-06 1.2453453e-04\n",
      "  5.8154696e-01 4.9362029e-03 3.5678807e-03 4.8730371e-04 6.3275074e-05\n",
      "  1.3178568e-04 1.5978072e-05 3.7182474e-08 1.2603213e-05 4.9265325e-09\n",
      "  1.5212571e-07 4.9372256e-10 9.4959823e-06 3.2150240e-07 4.7773710e-06\n",
      "  2.1244659e-07 1.4509325e-12 1.8140367e-13]]\n",
      "Road work\n"
     ]
    }
   ],
   "source": [
    "upload=Button(top,text=\"Upload an image\",command=upload_image,padx=10,pady=5)\n",
    "upload.configure(background='#1B202B', foreground='white',font=('arial',10,'bold'))\n",
    "upload.pack(side=BOTTOM,pady=50)\n",
    "sign_image.pack(side=BOTTOM,expand=True)\n",
    "label.pack(side=BOTTOM,expand=True)\n",
    "heading = Label(top, text=\"Know Your Traffic Sign\",pady=20, font=('artcraft',20,'bold'))\n",
    "heading.configure(background='#CDCDCD',foreground='#364156')\n",
    "heading.pack()\n",
    "top.mainloop()"
   ]
  },
  {
   "cell_type": "code",
   "execution_count": null,
   "id": "a27b8fa0",
   "metadata": {},
   "outputs": [],
   "source": []
  }
 ],
 "metadata": {
  "kernelspec": {
   "display_name": "Python 3 (ipykernel)",
   "language": "python",
   "name": "python3"
  },
  "language_info": {
   "codemirror_mode": {
    "name": "ipython",
    "version": 3
   },
   "file_extension": ".py",
   "mimetype": "text/x-python",
   "name": "python",
   "nbconvert_exporter": "python",
   "pygments_lexer": "ipython3",
   "version": "3.9.13"
  }
 },
 "nbformat": 4,
 "nbformat_minor": 5
}
