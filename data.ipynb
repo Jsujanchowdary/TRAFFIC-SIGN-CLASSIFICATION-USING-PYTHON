{
 "cells": [
  {
   "cell_type": "code",
   "execution_count": 2,
   "id": "c11d82fb",
   "metadata": {},
   "outputs": [
    {
     "name": "stdout",
     "output_type": "stream",
     "text": [
      "Collecting PySimpleGUI\n",
      "  Using cached PySimpleGUI-4.60.4-py3-none-any.whl (509 kB)\n",
      "Installing collected packages: PySimpleGUI\n",
      "Successfully installed PySimpleGUI-4.60.4\n"
     ]
    }
   ],
   "source": [
    "!pip install PySimpleGUI"
   ]
  },
  {
   "cell_type": "code",
   "execution_count": 3,
   "id": "61779bd3",
   "metadata": {},
   "outputs": [],
   "source": []
  },
  {
   "cell_type": "code",
   "execution_count": 14,
   "id": "d6c2ac9b",
   "metadata": {},
   "outputs": [
    {
     "ename": "NameError",
     "evalue": "name 'Recipts' is not defined",
     "output_type": "error",
     "traceback": [
      "\u001b[1;31m---------------------------------------------------------------------------\u001b[0m",
      "\u001b[1;31mNameError\u001b[0m                                 Traceback (most recent call last)",
      "\u001b[1;32m~\\AppData\\Local\\Temp\\ipykernel_2468\\3940331762.py\u001b[0m in \u001b[0;36m<module>\u001b[1;34m\u001b[0m\n\u001b[0;32m     36\u001b[0m         \u001b[1;32mbreak\u001b[0m\u001b[1;33m\u001b[0m\u001b[1;33m\u001b[0m\u001b[0m\n\u001b[0;32m     37\u001b[0m     \u001b[1;32mif\u001b[0m \u001b[0mevent\u001b[0m \u001b[1;33m==\u001b[0m \u001b[1;34m'Balance'\u001b[0m\u001b[1;33m:\u001b[0m\u001b[1;33m\u001b[0m\u001b[1;33m\u001b[0m\u001b[0m\n\u001b[1;32m---> 38\u001b[1;33m         \u001b[0mbalance_input\u001b[0m\u001b[1;33m(\u001b[0m\u001b[1;33m)\u001b[0m\u001b[1;33m\u001b[0m\u001b[1;33m\u001b[0m\u001b[0m\n\u001b[0m\u001b[0;32m     39\u001b[0m     \u001b[1;32mif\u001b[0m \u001b[0mevent\u001b[0m \u001b[1;33m==\u001b[0m \u001b[1;34m'Clear'\u001b[0m\u001b[1;33m:\u001b[0m\u001b[1;33m\u001b[0m\u001b[1;33m\u001b[0m\u001b[0m\n\u001b[0;32m     40\u001b[0m         \u001b[0mclear_input\u001b[0m\u001b[1;33m(\u001b[0m\u001b[1;33m)\u001b[0m\u001b[1;33m\u001b[0m\u001b[1;33m\u001b[0m\u001b[0m\n",
      "\u001b[1;32m~\\AppData\\Local\\Temp\\ipykernel_2468\\3940331762.py\u001b[0m in \u001b[0;36mbalance_input\u001b[1;34m()\u001b[0m\n\u001b[0;32m     28\u001b[0m \u001b[1;32mdef\u001b[0m \u001b[0mbalance_input\u001b[0m\u001b[1;33m(\u001b[0m\u001b[1;33m)\u001b[0m\u001b[1;33m:\u001b[0m\u001b[1;33m\u001b[0m\u001b[1;33m\u001b[0m\u001b[0m\n\u001b[0;32m     29\u001b[0m     \u001b[1;32mfor\u001b[0m \u001b[0mkey\u001b[0m \u001b[1;32min\u001b[0m \u001b[0mvalues\u001b[0m\u001b[1;33m:\u001b[0m\u001b[1;33m\u001b[0m\u001b[1;33m\u001b[0m\u001b[0m\n\u001b[1;32m---> 30\u001b[1;33m         \u001b[0mbalance\u001b[0m \u001b[1;33m=\u001b[0m \u001b[0mRecipts\u001b[0m \u001b[1;33m-\u001b[0m \u001b[0mConsumption\u001b[0m\u001b[1;33m\u001b[0m\u001b[1;33m\u001b[0m\u001b[0m\n\u001b[0m\u001b[0;32m     31\u001b[0m         \u001b[1;32mreturn\u001b[0m \u001b[0mbalance\u001b[0m\u001b[1;33m\u001b[0m\u001b[1;33m\u001b[0m\u001b[0m\n\u001b[0;32m     32\u001b[0m \u001b[1;33m\u001b[0m\u001b[0m\n",
      "\u001b[1;31mNameError\u001b[0m: name 'Recipts' is not defined"
     ]
    }
   ],
   "source": [
    "from pathlib import Path\n",
    "\n",
    "import PySimpleGUI as sg\n",
    "import pandas as pd\n",
    "\n",
    "# Add some color to the window\n",
    "sg.theme('DarkTeal9')\n",
    "\n",
    "current_dir = Path(__file__).parent if '__file__' in locals() else Path.cwd()\n",
    "EXCEL_FILE = current_dir / r\"C:\\Users\\j sujan chowdary\\Downloads\\office data.xlsx\"\n",
    "df = pd.read_excel(EXCEL_FILE)\n",
    "\n",
    "layout = [\n",
    "    [sg.Text('Please fill out the following fields:')],\n",
    "    [sg.Text('Recipts ', size=(15,1)), sg.InputText(key='Recipts')],\n",
    "    [sg.Text('Consumption ', size=(15,1)), sg.InputText(key='Consumption')],\n",
    "    [sg.Text('Balance', size=(15,1)), sg.InputText(key='balance')],\n",
    "    [sg.Button('Balance')],\n",
    "    [sg.Submit(), sg.Button('Clear'), sg.Exit()]\n",
    "]\n",
    "\n",
    "window = sg.Window('Simple data entry form', layout)\n",
    "\n",
    "def clear_input():\n",
    "    for key in values:\n",
    "        window[key]('')\n",
    "    return None\n",
    "def balance_input():\n",
    "    for key in values:\n",
    "        balance = Recipts - Consumption\n",
    "        return balance\n",
    "\n",
    "while True:\n",
    "    event, values = window.read()\n",
    "    if event == sg.WIN_CLOSED or event == 'Exit':\n",
    "        break\n",
    "    if event == 'Balance':\n",
    "        balance_input()\n",
    "    if event == 'Clear':\n",
    "        clear_input()\n",
    "    if event == 'Submit':\n",
    "        new_record = pd.DataFrame(values, index=[0])\n",
    "        df = pd.concat([df, new_record], ignore_index=True)\n",
    "        df.to_excel(EXCEL_FILE, index=False)\n",
    "        sg.popup('Data saved!')\n",
    "        clear_input()\n",
    "window.close()"
   ]
  },
  {
   "cell_type": "code",
   "execution_count": null,
   "id": "9529f4c2",
   "metadata": {},
   "outputs": [],
   "source": []
  }
 ],
 "metadata": {
  "kernelspec": {
   "display_name": "Python 3 (ipykernel)",
   "language": "python",
   "name": "python3"
  },
  "language_info": {
   "codemirror_mode": {
    "name": "ipython",
    "version": 3
   },
   "file_extension": ".py",
   "mimetype": "text/x-python",
   "name": "python",
   "nbconvert_exporter": "python",
   "pygments_lexer": "ipython3",
   "version": "3.9.13"
  }
 },
 "nbformat": 4,
 "nbformat_minor": 5
}
